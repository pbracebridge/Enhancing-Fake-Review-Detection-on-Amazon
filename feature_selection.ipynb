{
 "cells": [
  {
   "cell_type": "code",
   "execution_count": null,
   "id": "64a490bd-7c4c-4f11-a4ca-ef47a122360e",
   "metadata": {
    "tags": []
   },
   "outputs": [],
   "source": [
    "# Import necessary libraries\n",
    "\n",
    "import pandas as pd  # Data manipulation and analysis\n",
    "import seaborn as sns  # Data visualization\n",
    "import matplotlib.pyplot as plt  # Plotting utilities\n",
    "import numpy as np  # Numerical computations\n",
    "\n",
    "# Feature selection methods\n",
    "from sklearn.feature_selection import mutual_info_classif, SelectFromModel, RFE\n",
    "\n",
    "# Machine learning models\n",
    "from sklearn.ensemble import RandomForestClassifier  # Random Forest for feature selection and classification\n",
    "from sklearn.linear_model import LogisticRegression, LassoCV  # Logistic Regression & Lasso for feature selection\n",
    "from sklearn.svm import LinearSVC, SVC  # Support Vector Machines (linear & non-linear)\n",
    "\n",
    "# Data preprocessing and model evaluation\n",
    "from sklearn.model_selection import train_test_split  # Splitting data into training and testing sets\n",
    "from sklearn.preprocessing import StandardScaler  # Standardization of feature values\n",
    "\n",
    "# Utility for analyzing dataset distributions\n",
    "from collections import Counter  # Count occurrences of elements in a dataset\n"
   ]
  },
  {
   "cell_type": "code",
   "execution_count": null,
   "id": "c2ca46d9-59da-4531-8e19-d2efa8f89b6f",
   "metadata": {
    "tags": []
   },
   "outputs": [],
   "source": [
    "# Load the dataset\n",
    "file_path = \"/Users/patrick/Desktop/Dissertation/Fake review project/data/reviews_with_features.csv\"\n",
    "reviews_dataset = pd.read_csv(file_path)"
   ]
  },
  {
   "cell_type": "code",
   "execution_count": null,
   "id": "c322ae9d-f881-4da9-a874-e369f9ddba79",
   "metadata": {},
   "outputs": [],
   "source": [
    "# Select only the numerical columns\n",
    "numeric_cols = reviews_dataset.select_dtypes(include=['float64', 'int64']).copy()\n",
    "\n",
    "# Ensure 'label' is included\n",
    "if 'label' not in numeric_cols.columns:\n",
    "    numeric_cols['label'] = reviews_dataset['label']"
   ]
  },
  {
   "cell_type": "code",
   "execution_count": null,
   "id": "12d28d93-0226-40bc-9ea8-7a8607b9476c",
   "metadata": {},
   "outputs": [],
   "source": [
    "# Categorise Features into Static, RNN, and GNN (Manually Assigned)\n",
    "# Static Features: General characteristics, excluding time-based and network-based features\n",
    "static_features = [\n",
    "    \"category\", \"rating\", \"text_length\", \"sentiment\", \"readability\",\n",
    "    \"text_length_x_readability\", \"log_text_length\", \"length_sentiment_ratio\",\n",
    "    \"is_weekend\", \"avg_rating\", \"rating_deviation\"\n",
    "]\n",
    "\n",
    "# RNN Features: Time-Based Features\n",
    "rnn_features = [\n",
    "    \"spike_day_reviewers\", \"rolling_review_count\", \"rolling_rating_mean\",\n",
    "    \"days_since_last_review\"\n",
    "]\n",
    "\n",
    "# GNN Features: Network/Group-Based Features\n",
    "gnn_features = [\n",
    "    \"category\", \"degree_centrality\", \"rolling_review_count\",\n",
    "    \"spike_day_reviewers\"\n",
    "]\n"
   ]
  },
  {
   "cell_type": "code",
   "execution_count": null,
   "id": "2e437481-c961-4154-9552-b08d93ec6895",
   "metadata": {},
   "outputs": [],
   "source": [
    "# Compute Correlation with Label\n",
    "correlation_matrix = numeric_cols.corr()\n",
    "correlation_threshold = 0.1\n",
    "correlation_with_label = correlation_matrix['label'].sort_values(ascending=False)\n",
    "selected_correlation_features = correlation_with_label[correlation_with_label.abs() > correlation_threshold].index.tolist()\n",
    "\n",
    "# Convert to DataFrame for Display\n",
    "correlation_df = pd.DataFrame({\n",
    "    \"Feature\": selected_correlation_features,\n",
    "    \"Correlation\": correlation_with_label[selected_correlation_features].values\n",
    "})\n",
    "\n",
    "# Print correlation results\n",
    "print(\"\\nFeatures with Absolute Correlation > 0.1:\")\n",
    "for feature, corr_value in zip(correlation_df[\"Feature\"], correlation_df[\"Correlation\"]):\n",
    "    print(f\"{feature}: {corr_value:.4f}\")\n",
    "\n",
    "# Visualize correlation with a bar chart\n",
    "plt.figure(figsize=(8, 5))\n",
    "sns.barplot(y=correlation_df[\"Feature\"], x=correlation_df[\"Correlation\"], palette=\"coolwarm\")\n",
    "plt.axvline(x=0.1, color=\"gray\", linestyle=\"--\", label=\"Threshold (0.1)\")\n",
    "plt.axvline(x=-0.1, color=\"gray\", linestyle=\"--\")\n",
    "plt.xlabel(\"Correlation with Label\")\n",
    "plt.ylabel(\"Feature\")\n",
    "plt.title(\"Feature Correlation with Label\")\n",
    "plt.legend()\n",
    "plt.show()\n"
   ]
  },
  {
   "cell_type": "code",
   "execution_count": null,
   "id": "cb59457f-4a65-4d9f-b053-7084b37a2c15",
   "metadata": {},
   "outputs": [],
   "source": [
    "# Compute Mutual Information for ALL Features\n",
    "X = numeric_cols.drop(columns=['label'], errors='ignore').fillna(0)\n",
    "y = reviews_dataset['label']\n",
    "mutual_info_scores = mutual_info_classif(X, y, discrete_features=False)\n",
    "mutual_info_df = pd.DataFrame({'Feature': X.columns, 'Mutual_Info_Score': mutual_info_scores}).sort_values(by='Mutual_Info_Score', ascending=False)\n",
    "\n",
    "# Set mutual information threshold\n",
    "mutual_info_threshold = 0.02\n",
    "selected_mutual_info_features = mutual_info_df[mutual_info_df['Mutual_Info_Score'] > mutual_info_threshold]['Feature'].tolist()\n",
    "\n",
    "print(\"\\nFeatures with Mutual Information Score > 0.02:\")\n",
    "for feature, mi_score in mutual_info_df[mutual_info_df['Mutual_Info_Score'] > mutual_info_threshold].values:\n",
    "    print(f\"{feature}: {mi_score:.4f}\")\n",
    "    \n",
    "# Plot Mutual Information Scores\n",
    "plt.figure(figsize=(12, 6))\n",
    "sns.barplot(x=mutual_info_df['Mutual_Info_Score'], y=mutual_info_df['Feature'], palette='viridis')\n",
    "plt.xlabel(\"Mutual Information Score\")\n",
    "plt.ylabel(\"Feature\")\n",
    "plt.title(\"Feature Importance Based on Mutual Information\")\n",
    "plt.show()\n"
   ]
  },
  {
   "cell_type": "code",
   "execution_count": null,
   "id": "25b34b6e-1d9f-4193-a10b-468fb92388ea",
   "metadata": {},
   "outputs": [],
   "source": [
    "# Recursive Feature Elimination (RFE) for Each Model\n",
    "scaler = StandardScaler()\n",
    "X_scaled = scaler.fit_transform(X)\n",
    "\n",
    "# RFE for Logistic Regression\n",
    "lr_rfe = LogisticRegression(max_iter=5000, solver='liblinear')\n",
    "rfe_selector_lr = RFE(lr_rfe, n_features_to_select=10)\n",
    "rfe_selector_lr.fit(X_scaled, y)\n",
    "rfe_selected_features_lr = X.columns[rfe_selector_lr.support_].tolist()\n",
    "\n",
    "# RFE for Random Forest\n",
    "rf_rfe = RandomForestClassifier(n_estimators=100, random_state=42)\n",
    "rfe_selector_rf = RFE(rf_rfe, n_features_to_select=10)\n",
    "rfe_selector_rf.fit(X_scaled, y)\n",
    "rfe_selected_features_rf = X.columns[rfe_selector_rf.support_].tolist()\n",
    "\n",
    "# RFE for SVM\n",
    "svm_rfe = SVC(kernel='linear')  # Linear kernel works best with RFE\n",
    "rfe_selector_svm = RFE(svm_rfe, n_features_to_select=10)\n",
    "rfe_selector_svm.fit(X_scaled, y)\n",
    "rfe_selected_features_svm = X.columns[rfe_selector_svm.support_].tolist()\n",
    "\n",
    "# Print RFE-selected features for each model\n",
    "print(\"\\nFeatures Selected by RFE:\")\n",
    "print(f\"Logistic Regression ({len(rfe_selected_features_lr)} features): {rfe_selected_features_lr}\")\n",
    "print(f\"Random Forest ({len(rfe_selected_features_rf)} features): {rfe_selected_features_rf}\")\n",
    "print(f\"SVM ({len(rfe_selected_features_svm)} features): {rfe_selected_features_svm}\")\n"
   ]
  },
  {
   "cell_type": "code",
   "execution_count": null,
   "id": "3b1e5820-ad49-4611-95e4-277d51a8a211",
   "metadata": {},
   "outputs": [],
   "source": [
    "# Lasso Regression for Feature Selection\n",
    "lasso = LassoCV(cv=5, random_state=42, alphas=np.logspace(-3, 1, 100), tol=1e-4, max_iter=5000)\n",
    "lasso.fit(X_scaled, y)\n",
    "threshold = np.percentile(np.abs(lasso.coef_), 60)\n",
    "lasso_selected_features = X.columns[np.abs(lasso.coef_) > threshold].tolist()\n",
    "\n",
    "# Print the features selected by Lasso Regression\n",
    "print(\"\\nFeatures Selected by Lasso Regression:\")\n",
    "print(f\"({len(lasso_selected_features)} features): {lasso_selected_features}\")\n"
   ]
  },
  {
   "cell_type": "code",
   "execution_count": null,
   "id": "129f7c65-8410-4d98-bece-55068cb2d340",
   "metadata": {},
   "outputs": [],
   "source": [
    "# Train-Test Split for Feature Importance Analysis\n",
    "X_train, X_test, y_train, y_test = train_test_split(X, y, test_size=0.3, random_state=42, stratify=y)\n",
    "\n",
    "# Random Forest Feature Importance\n",
    "rf_model = RandomForestClassifier(random_state=42, n_estimators=100)\n",
    "rf_model.fit(X_train, y_train)\n",
    "rf_importances = pd.DataFrame({'Feature': X.columns, 'Importance': rf_model.feature_importances_}).sort_values(by='Importance', ascending=False)\n",
    "rf_top_features = rf_importances['Feature'].tolist()[:10]\n",
    "\n",
    "# Logistic Regression Coefficients\n",
    "lr_model = LogisticRegression(max_iter=5000, solver='saga')\n",
    "lr_model.fit(StandardScaler().fit_transform(X_train), y_train)\n",
    "lr_coefficients = pd.DataFrame({'Feature': X.columns, 'Coefficient': lr_model.coef_[0]}).sort_values(by='Coefficient', ascending=False)\n",
    "lr_top_features = lr_coefficients['Feature'].tolist()[:10]\n",
    "\n",
    "# SVM Feature Selection\n",
    "svm_model = LinearSVC(dual=False, max_iter=5000)\n",
    "svm_model.fit(StandardScaler().fit_transform(X_train), y_train)\n",
    "selector = SelectFromModel(svm_model, prefit=True)\n",
    "svm_top_features = X.columns[selector.get_support()].tolist()\n",
    "\n",
    "# Print Top Features Selected by Random Forest\n",
    "print(\"\\nTop Features Selected by Random Forest (Feature Importance):\")\n",
    "print(f\"({len(rf_top_features)} features): {rf_top_features}\")\n",
    "\n",
    "# Print Top Features Selected by Logistic Regression\n",
    "print(\"\\nTop Features Selected by Logistic Regression (Coefficient-Based):\")\n",
    "print(f\"({len(lr_top_features)} features): {lr_top_features}\")\n",
    "\n",
    "# Print Top Features Selected by SVM\n",
    "print(\"\\nTop Features Selected by SVM (SelectFromModel):\")\n",
    "print(f\"({len(svm_top_features)} features): {svm_top_features}\")\n"
   ]
  },
  {
   "cell_type": "code",
   "execution_count": null,
   "id": "4485b548-497d-49ba-b4b5-9c23872392a9",
   "metadata": {
    "tags": []
   },
   "outputs": [],
   "source": [
    "# Define Model-Specific Feature Sets\n",
    "# Traditional Models (Static Features Only)\n",
    "rf_features = list(set(static_features) & set(rfe_selected_features_rf + rf_top_features))\n",
    "lr_features = list(set(static_features) & set(lasso_selected_features + rfe_selected_features_lr + lr_top_features))\n",
    "svm_features = list(set(static_features) & set(rfe_selected_features_svm + svm_top_features + selected_mutual_info_features))\n",
    "\n",
    "# Neural Networks (Time-Based & Graph-Based Features)\n",
    "gnn_features = list(set(gnn_features) & set(rfe_selected_features_rf + rf_top_features + selected_mutual_info_features))\n",
    "rnn_features = list(set(rnn_features) & set(rfe_selected_features_lr + lasso_selected_features + selected_mutual_info_features))\n",
    "\n",
    "# Display Final Feature Sets\n",
    "print(\"\\nFinal Features Selected for Each Model:\")\n",
    "print(f\"Random Forest Features ({len(rf_features)}): {rf_features}\")\n",
    "print(f\"Logistic Regression Features ({len(lr_features)}): {lr_features}\")\n",
    "print(f\"SVM Features ({len(svm_features)}): {svm_features}\")\n",
    "print(f\"GNN Features ({len(gnn_features)}): {gnn_features}\")\n",
    "print(f\"RNN Features ({len(rnn_features)}): {rnn_features}\")"
   ]
  },
  {
   "cell_type": "code",
   "execution_count": null,
   "id": "48660e8f-85f0-4390-890d-26a22ec4dd2b",
   "metadata": {
    "tags": []
   },
   "outputs": [],
   "source": []
  },
  {
   "cell_type": "code",
   "execution_count": null,
   "id": "089f7683-d5f6-41e4-ae9a-0abc36e25b56",
   "metadata": {
    "tags": []
   },
   "outputs": [],
   "source": []
  }
 ],
 "metadata": {
  "kernelspec": {
   "display_name": "Python 3 (ipykernel)",
   "language": "python",
   "name": "python3"
  },
  "language_info": {
   "codemirror_mode": {
    "name": "ipython",
    "version": 3
   },
   "file_extension": ".py",
   "mimetype": "text/x-python",
   "name": "python",
   "nbconvert_exporter": "python",
   "pygments_lexer": "ipython3",
   "version": "3.11.5"
  }
 },
 "nbformat": 4,
 "nbformat_minor": 5
}
